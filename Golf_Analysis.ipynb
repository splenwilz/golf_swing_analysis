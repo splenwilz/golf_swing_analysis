{
  "nbformat": 4,
  "nbformat_minor": 0,
  "metadata": {
    "colab": {
      "provenance": [],
      "authorship_tag": "ABX9TyMy389OXnHJCnDpkyJMBfET",
      "include_colab_link": true
    },
    "kernelspec": {
      "name": "python3",
      "display_name": "Python 3"
    },
    "language_info": {
      "name": "python"
    }
  },
  "cells": [
    {
      "cell_type": "markdown",
      "metadata": {
        "id": "view-in-github",
        "colab_type": "text"
      },
      "source": [
        "<a href=\"https://colab.research.google.com/github/splenwilz/golf_swing_analysis/blob/main/Golf_Analysis.ipynb\" target=\"_parent\"><img src=\"https://colab.research.google.com/assets/colab-badge.svg\" alt=\"Open In Colab\"/></a>"
      ]
    },
    {
      "cell_type": "markdown",
      "source": [
        "## Load dataset with pyomeca"
      ],
      "metadata": {
        "id": "PF0JHRInKrjG"
      }
    },
    {
      "cell_type": "code",
      "source": [
        "import pyomeca\n",
        "data = pyomeca.C3D(\"golf_swing.c3d\")"
      ],
      "metadata": {
        "id": "K8NsknoyDq5s"
      },
      "execution_count": null,
      "outputs": []
    },
    {
      "cell_type": "markdown",
      "source": [
        "##Preprocessing the data"
      ],
      "metadata": {
        "id": "f-IUHs6WLJej"
      }
    },
    {
      "cell_type": "code",
      "source": [
        "data_processed = data.meca.filter_butter(\n",
        "    f_cutoff=10, # cut-off frequency in Hz\n",
        "    order=4, # order of the filter\n",
        "    direction=\"lowpass\", # filter direction\n",
        ")\n",
        "\n",
        "# Calculating Joint Angles\n",
        "angles = pyomeca.to_radians(data_processed.meca.joint_angles())\n",
        "\n",
        "# Calculate the joint velocities and accelerations using Pyomeca\n",
        "velocities = data_processed.meca.velocity(angles)\n",
        "accelerations = data_processed.meca.acceleration(angles, velocities)"
      ],
      "metadata": {
        "id": "3QxPkSXiLNNR"
      },
      "execution_count": null,
      "outputs": []
    },
    {
      "cell_type": "markdown",
      "source": [
        "##Create a Musculoskeletal Model"
      ],
      "metadata": {
        "id": "lHdsMH49Lsnt"
      }
    },
    {
      "cell_type": "code",
      "source": [
        "import biorbd\n",
        "\n",
        "model = biorbd.Model.from_path('model.bioMod')\n",
        "\n",
        "#Define the markers used in the motion capture data\n",
        "markers = pyomeca.Markers.from_c3d(\"golf_swing.c3d\")\n",
        "marker_names = markers.names.tolist()\n",
        "\n",
        "#Set the position of the markers in the model\n",
        "model_markers = pyomeca.Markers.from_biorbd(model, marker_names)\n",
        "model_markers.set_current_frame(markers[:, 0, :])\n"
      ],
      "metadata": {
        "id": "XQV-_PLQLsC0"
      },
      "execution_count": null,
      "outputs": []
    },
    {
      "cell_type": "markdown",
      "source": [
        "##Calculate Muscle Forces, Joint Torques, and Power Output"
      ],
      "metadata": {
        "id": "AwkYOAJNMLSS"
      }
    },
    {
      "cell_type": "code",
      "source": [
        "#Calculate the muscle activations using Biorbd.\n",
        "activations = biorbd.VecBiorbdMuscle(model.nbMuscleTotal())\n",
        "\n",
        "#Calculate the muscle forces and joint torques using Biorbd\n",
        "muscle_forces = model.muscleForces(activations, angles, velocities)\n",
        "joint_torques = model.torque(angles, velocities, activations)\n",
        "\n",
        "#Calculate the power output of the movement using Biorbd\n",
        "power_output = joint_torques @ velocities.T\n",
        "\n",
        "\n",
        "# These lines of code use the previously calculated joint angles, velocities, \n",
        "# and muscle activations to estimate the muscle forces, joint torques, and \n",
        "# power output of the golf swing. Note that the power output is calculated \n",
        "# as the dot product of the joint torques and velocities.\n",
        "\n"
      ],
      "metadata": {
        "id": "_czVbAn9MM0a"
      },
      "execution_count": null,
      "outputs": []
    },
    {
      "cell_type": "markdown",
      "source": [
        "##Define the Optimization Problem"
      ],
      "metadata": {
        "id": "bcoXmqxDNz9l"
      }
    },
    {
      "cell_type": "code",
      "source": [
        "import casadi as ca\n",
        "\n",
        "#Define the decision variables for the optimization problem. In this case, the decision variables are the muscle activations.\n",
        "nlp = ca.tools.nlp(N=1, h=0.01)\n",
        "activations = nlp.add_variable(name=\"activations\", shape=(model.nbMuscleTotal(),))\n",
        "\n",
        "\n",
        "#Define the objective function\n",
        "objective = ca.sumsqr(muscle_forces)\n",
        "nlp.add_objective(objective)\n",
        "\n",
        "#Define the constraints on the decision variables.\n",
        "nlp.add_constraint(0.01 <= activations)\n",
        "nlp.add_constraint(activations <= 1)\n",
        "\n",
        "\n",
        "#Define the constraints on the state variables.\n",
        "nlp.add_constraint(angles[:, -1] - angles[:, 0], lower=-0.1, upper=0.1)\n",
        "nlp.add_constraint(velocities[:, -1], lower=0, upper=0)\n",
        "nlp.add_constraint(accelerations[:, -1], lower=0, upper=0)\n",
        "\n",
        "#Define the constraints on the control variables\n",
        "nlp.add_constraint(muscle_forces, lower=0, upper=1000)\n",
        "nlp.add_constraint(joint_torques, lower=-1000, upper=1000)\n",
        "\n",
        "\n",
        "#Define the constraints on the initial and final values of the state variables.\n",
        "nlp.add_constraint(angles[:, 0], equal=data_processed[\"markers\"][:, 0])\n",
        "nlp.add_constraint(velocities[:, 0], equal=data_processed[\"qdot\"][:, 0])\n",
        "nlp.add_constraint(angles[:, -1], equal=data_processed[\"markers\"][:, -1])\n",
        "nlp.add_constraint(velocities[:, -1], equal=data_processed[\"qdot\"][:, -1])\n"
      ],
      "metadata": {
        "id": "Qszjs_JSNzjl"
      },
      "execution_count": null,
      "outputs": []
    },
    {
      "cell_type": "markdown",
      "source": [
        "##Solve the Optimization Problem"
      ],
      "metadata": {
        "id": "rCfzg2fUOoIn"
      }
    },
    {
      "cell_type": "code",
      "source": [
        "options = {\"ipopt.tol\": 1e-3, \"ipopt.print_level\": 0}\n",
        "solver = nlp.solver(\"ipopt\", options)\n",
        "init_guess = {\"activations\": np.zeros((model.nbMuscleTotal(),))}\n",
        "sol = solver.solve(init_guess)\n"
      ],
      "metadata": {
        "id": "9zJzlt6uOsAn"
      },
      "execution_count": null,
      "outputs": []
    },
    {
      "cell_type": "markdown",
      "source": [
        "##Visualize the Results"
      ],
      "metadata": {
        "id": "iqZ8wPZkOxO4"
      }
    },
    {
      "cell_type": "code",
      "source": [
        "time = np.linspace(0, data[\"n_frames\"] / data[\"frame_rate\"], data[\"n_frames\"])\n",
        "fig, axs = plt.subplots(3, 1, figsize=(10, 8))\n",
        "for i, ax in enumerate(axs):\n",
        "    ax.plot(time, angles[i, :])\n",
        "    ax.set_ylabel(f\"Joint {i + 1} angle (rad)\")\n",
        "axs[-1].set_xlabel(\"Time (s)\")\n",
        "\n",
        "\n",
        "# This code creates a plot with three subplots, one for each joint angle. \n",
        "# The plot shows how the joint angles change over time during the golf swing"
      ],
      "metadata": {
        "id": "JRc5y7x2Oym1"
      },
      "execution_count": null,
      "outputs": []
    },
    {
      "cell_type": "code",
      "source": [
        "#We can also plot the joint velocities and accelerations using similar code"
      ],
      "metadata": {
        "id": "7QqvZYXIPGGm"
      },
      "execution_count": null,
      "outputs": []
    },
    {
      "cell_type": "code",
      "source": [
        "time = np.linspace(0, data[\"n_frames\"] / data[\"frame_rate\"], data[\"n_frames\"])\n",
        "fig, axs = plt.subplots(3, 1, figsize=(10, 8))\n",
        "for i, ax in enumerate(axs):\n",
        "    ax.plot(time, velocities[i, :])\n",
        "    ax.set_ylabel(f\"Joint {i + 1} velocity (rad/s)\")\n",
        "axs[-1].set_xlabel(\"Time (s)\")\n",
        "\n",
        "# This code creates a plot with three subplots, one for each joint velocity. \n",
        "# The plot shows how the joint velocities change over time during the golf swing."
      ],
      "metadata": {
        "id": "PbEzptb3PLsD"
      },
      "execution_count": null,
      "outputs": []
    },
    {
      "cell_type": "code",
      "source": [
        "#Similarly, to plot the joint accelerations,\n",
        "time = np.linspace(0, data[\"n_frames\"] / data[\"frame_rate\"], data[\"n_frames\"])\n",
        "fig, axs = plt.subplots(3, 1, figsize=(10, 8))\n",
        "for i, ax in enumerate(axs):\n",
        "    ax.plot(time, accelerations[i, :])\n",
        "    ax.set_ylabel(f\"Joint {i + 1} acceleration (rad/s^2)\")\n",
        "axs[-1].set_xlabel(\"Time (s)\")\n",
        "\n",
        "\n",
        "# This code creates a plot with three subplots, one for each joint acceleration. \n",
        "# The plot shows how the joint accelerations change over time during the golf swing."
      ],
      "metadata": {
        "id": "Nq9Db4Y8PWjJ"
      },
      "execution_count": null,
      "outputs": []
    },
    {
      "cell_type": "code",
      "source": [
        "#We can also plot the muscle forces, joint torques, and power output using similar code\n",
        "time = np.linspace(0, data[\"n_frames\"] / data[\"frame_rate\"], data[\"n_frames\"])\n",
        "fig, axs = plt.subplots(3, 1, figsize=(10, 8))\n",
        "axs[0].plot(time, muscle_forces.T)\n",
        "axs[0].set_ylabel(\"Muscle Forces (N)\")\n",
        "axs[1].plot(time, joint_torques.T)\n",
        "axs[1].set_ylabel(\"Joint Torques (N.m)\")\n",
        "axs[2].plot(time, power_output.T)\n",
        "axs[2].set_ylabel(\"Power Output (W)\")\n",
        "axs[-1].set_xlabel(\"Time (s)\")\n",
        "\n",
        "\n",
        "# This code creates a plot with three subplots, one for each variable. \n",
        "# The plot shows how the muscle forces, joint torques, and power output \n",
        "# change over time during the golf swing."
      ],
      "metadata": {
        "id": "8mSI82FrPjha"
      },
      "execution_count": null,
      "outputs": []
    }
  ]
}